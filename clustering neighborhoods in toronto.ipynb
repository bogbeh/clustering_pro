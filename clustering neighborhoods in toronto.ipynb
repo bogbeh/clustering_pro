{
    "nbformat_minor": 1, 
    "cells": [
        {
            "execution_count": 1, 
            "cell_type": "code", 
            "metadata": {}, 
            "outputs": [
                {
                    "output_type": "stream", 
                    "name": "stdout", 
                    "text": "Fetching package metadata .............\nSolving package specifications: .\n\nPackage plan for installation in environment /opt/conda/envs/DSX-Python35:\n\nThe following NEW packages will be INSTALLED:\n\n    geographiclib: 1.49-py_0   conda-forge\n    geopy:         1.17.0-py_0 conda-forge\n\ngeographiclib- 100% |################################| Time: 0:00:00  23.45 MB/s\ngeopy-1.17.0-p 100% |################################| Time: 0:00:00  36.01 MB/s\nFetching package metadata .............\nSolving package specifications: .\n\nPackage plan for installation in environment /opt/conda/envs/DSX-Python35:\n\nThe following NEW packages will be INSTALLED:\n\n    altair:  2.2.2-py35_1 conda-forge\n    branca:  0.3.1-py_0   conda-forge\n    folium:  0.5.0-py_0   conda-forge\n    vincent: 0.4.4-py_1   conda-forge\n\naltair-2.2.2-p 100% |################################| Time: 0:00:00  57.29 MB/s\nbranca-0.3.1-p 100% |################################| Time: 0:00:00  34.95 MB/s\nvincent-0.4.4- 100% |################################| Time: 0:00:00  38.40 MB/s\nfolium-0.5.0-p 100% |################################| Time: 0:00:00  48.41 MB/s\nLibraries imported.\n"
                }
            ], 
            "source": "import numpy as np # library to handle data in a vectorized manner\nimport pandas as pd # library for data analsysis\npd.set_option('display.max_columns', None)\npd.set_option('display.max_rows', None)\nimport json # library to handle JSON files\n!conda install -c conda-forge geopy --yes # uncomment this line if you haven't completed the Foursquare API lab\nfrom geopy.geocoders import Nominatim # convert an address into latitude and longitude values\nimport requests # library to handle requests\nfrom pandas.io.json import json_normalize # tranform JSON file into a pandas dataframe\n# Matplotlib and associated plotting modules\nimport matplotlib.cm as cm\nimport matplotlib.colors as colors\n# import k-means from clustering stage\nfrom sklearn.cluster import KMeans\n!conda install -c conda-forge folium=0.5.0 --yes # uncomment this line if you haven't completed the Foursquare API lab\nimport folium # map rendering library\nprint('Libraries imported.')"
        }, 
        {
            "source": "Getting the table\n", 
            "cell_type": "markdown", 
            "metadata": {}
        }, 
        {
            "execution_count": 4, 
            "cell_type": "code", 
            "metadata": {}, 
            "outputs": [
                {
                    "execution_count": 4, 
                    "metadata": {}, 
                    "data": {
                        "text/html": "<div>\n<style scoped>\n    .dataframe tbody tr th:only-of-type {\n        vertical-align: middle;\n    }\n\n    .dataframe tbody tr th {\n        vertical-align: top;\n    }\n\n    .dataframe thead th {\n        text-align: right;\n    }\n</style>\n<table border=\"1\" class=\"dataframe\">\n  <thead>\n    <tr style=\"text-align: right;\">\n      <th></th>\n      <th>Postcode</th>\n      <th>Borough</th>\n      <th>Neighbourhood</th>\n    </tr>\n  </thead>\n  <tbody>\n    <tr>\n      <th>0</th>\n      <td>M1A</td>\n      <td>Not assigned</td>\n      <td>Not assigned</td>\n    </tr>\n    <tr>\n      <th>1</th>\n      <td>M2A</td>\n      <td>Not assigned</td>\n      <td>Not assigned</td>\n    </tr>\n    <tr>\n      <th>2</th>\n      <td>M3A</td>\n      <td>North York</td>\n      <td>Parkwoods</td>\n    </tr>\n    <tr>\n      <th>3</th>\n      <td>M4A</td>\n      <td>North York</td>\n      <td>Victoria Village</td>\n    </tr>\n    <tr>\n      <th>4</th>\n      <td>M5A</td>\n      <td>Downtown Toronto</td>\n      <td>Harbourfront</td>\n    </tr>\n  </tbody>\n</table>\n</div>", 
                        "text/plain": "  Postcode           Borough     Neighbourhood\n0      M1A      Not assigned      Not assigned\n1      M2A      Not assigned      Not assigned\n2      M3A        North York         Parkwoods\n3      M4A        North York  Victoria Village\n4      M5A  Downtown Toronto      Harbourfront"
                    }, 
                    "output_type": "execute_result"
                }
            ], 
            "source": "url='https://en.wikipedia.org/wiki/List_of_postal_codes_of_Canada:_M'\n\ntable = pd.read_html(url, header=0,keep_default_na=False) \n\ndf = table[0]\n\ndf.head()"
        }, 
        {
            "source": "Getting the size of the table", 
            "cell_type": "markdown", 
            "metadata": {}
        }, 
        {
            "execution_count": 5, 
            "cell_type": "code", 
            "metadata": {}, 
            "outputs": [
                {
                    "execution_count": 5, 
                    "metadata": {}, 
                    "data": {
                        "text/plain": "(289, 3)"
                    }, 
                    "output_type": "execute_result"
                }
            ], 
            "source": "df.shape"
        }, 
        {
            "source": "Renaming the columns", 
            "cell_type": "markdown", 
            "metadata": {}
        }, 
        {
            "execution_count": 6, 
            "cell_type": "code", 
            "metadata": {}, 
            "outputs": [], 
            "source": "df.columns = ['PostalCode','Borough','Neighborhood']\n"
        }, 
        {
            "source": "Dropping cells with non assigned boroughs", 
            "cell_type": "markdown", 
            "metadata": {}
        }, 
        {
            "execution_count": 12, 
            "cell_type": "code", 
            "metadata": {}, 
            "outputs": [
                {
                    "execution_count": 12, 
                    "metadata": {}, 
                    "data": {
                        "text/html": "<div>\n<style scoped>\n    .dataframe tbody tr th:only-of-type {\n        vertical-align: middle;\n    }\n\n    .dataframe tbody tr th {\n        vertical-align: top;\n    }\n\n    .dataframe thead th {\n        text-align: right;\n    }\n</style>\n<table border=\"1\" class=\"dataframe\">\n  <thead>\n    <tr style=\"text-align: right;\">\n      <th></th>\n      <th>PostalCode</th>\n      <th>Borough</th>\n      <th>Neighborhood</th>\n    </tr>\n  </thead>\n  <tbody>\n    <tr>\n      <th>0</th>\n      <td>M3A</td>\n      <td>North York</td>\n      <td>Parkwoods</td>\n    </tr>\n    <tr>\n      <th>1</th>\n      <td>M4A</td>\n      <td>North York</td>\n      <td>Victoria Village</td>\n    </tr>\n    <tr>\n      <th>2</th>\n      <td>M5A</td>\n      <td>Downtown Toronto</td>\n      <td>Harbourfront</td>\n    </tr>\n    <tr>\n      <th>3</th>\n      <td>M5A</td>\n      <td>Downtown Toronto</td>\n      <td>Regent Park</td>\n    </tr>\n    <tr>\n      <th>4</th>\n      <td>M6A</td>\n      <td>North York</td>\n      <td>Lawrence Heights</td>\n    </tr>\n  </tbody>\n</table>\n</div>", 
                        "text/plain": "  PostalCode           Borough      Neighborhood\n0        M3A        North York         Parkwoods\n1        M4A        North York  Victoria Village\n2        M5A  Downtown Toronto      Harbourfront\n3        M5A  Downtown Toronto       Regent Park\n4        M6A        North York  Lawrence Heights"
                    }, 
                    "output_type": "execute_result"
                }
            ], 
            "source": "df1 = df.query('Borough != \"Not assigned\"').reset_index(drop=True)\ndf1.head()"
        }, 
        {
            "source": "Combining neighborhoods with the same postal code", 
            "cell_type": "markdown", 
            "metadata": {}
        }, 
        {
            "execution_count": 13, 
            "cell_type": "code", 
            "metadata": {}, 
            "outputs": [
                {
                    "execution_count": 13, 
                    "metadata": {}, 
                    "data": {
                        "text/html": "<div>\n<style scoped>\n    .dataframe tbody tr th:only-of-type {\n        vertical-align: middle;\n    }\n\n    .dataframe tbody tr th {\n        vertical-align: top;\n    }\n\n    .dataframe thead th {\n        text-align: right;\n    }\n</style>\n<table border=\"1\" class=\"dataframe\">\n  <thead>\n    <tr style=\"text-align: right;\">\n      <th></th>\n      <th>PostalCode</th>\n      <th>Borough</th>\n      <th>Neighborhood</th>\n    </tr>\n  </thead>\n  <tbody>\n    <tr>\n      <th>0</th>\n      <td>M1B</td>\n      <td>Scarborough</td>\n      <td>Malvern, Rouge</td>\n    </tr>\n    <tr>\n      <th>1</th>\n      <td>M1C</td>\n      <td>Scarborough</td>\n      <td>Rouge Hill, Port Union, Highland Creek</td>\n    </tr>\n    <tr>\n      <th>2</th>\n      <td>M1E</td>\n      <td>Scarborough</td>\n      <td>Morningside, Guildwood, West Hill</td>\n    </tr>\n    <tr>\n      <th>3</th>\n      <td>M1G</td>\n      <td>Scarborough</td>\n      <td>Woburn</td>\n    </tr>\n    <tr>\n      <th>4</th>\n      <td>M1H</td>\n      <td>Scarborough</td>\n      <td>Cedarbrae</td>\n    </tr>\n  </tbody>\n</table>\n</div>", 
                        "text/plain": "  PostalCode      Borough                            Neighborhood\n0        M1B  Scarborough                          Malvern, Rouge\n1        M1C  Scarborough  Rouge Hill, Port Union, Highland Creek\n2        M1E  Scarborough       Morningside, Guildwood, West Hill\n3        M1G  Scarborough                                  Woburn\n4        M1H  Scarborough                               Cedarbrae"
                    }, 
                    "output_type": "execute_result"
                }
            ], 
            "source": "df2=df1.groupby('PostalCode', as_index=False).agg(lambda x: ', '.join(set(x.dropna())))\ndf2.head()"
        }, 
        {
            "source": "Assigning the borough cells to the non assigned neigborhood", 
            "cell_type": "markdown", 
            "metadata": {}
        }, 
        {
            "execution_count": 14, 
            "cell_type": "code", 
            "metadata": {}, 
            "outputs": [
                {
                    "execution_count": 14, 
                    "metadata": {}, 
                    "data": {
                        "text/html": "<div>\n<style scoped>\n    .dataframe tbody tr th:only-of-type {\n        vertical-align: middle;\n    }\n\n    .dataframe tbody tr th {\n        vertical-align: top;\n    }\n\n    .dataframe thead th {\n        text-align: right;\n    }\n</style>\n<table border=\"1\" class=\"dataframe\">\n  <thead>\n    <tr style=\"text-align: right;\">\n      <th></th>\n      <th>PostalCode</th>\n      <th>Borough</th>\n      <th>Neighborhood</th>\n    </tr>\n  </thead>\n  <tbody>\n    <tr>\n      <th>0</th>\n      <td>M1B</td>\n      <td>Scarborough</td>\n      <td>Malvern, Rouge</td>\n    </tr>\n    <tr>\n      <th>1</th>\n      <td>M1C</td>\n      <td>Scarborough</td>\n      <td>Rouge Hill, Port Union, Highland Creek</td>\n    </tr>\n    <tr>\n      <th>2</th>\n      <td>M1E</td>\n      <td>Scarborough</td>\n      <td>Morningside, Guildwood, West Hill</td>\n    </tr>\n    <tr>\n      <th>3</th>\n      <td>M1G</td>\n      <td>Scarborough</td>\n      <td>Woburn</td>\n    </tr>\n    <tr>\n      <th>4</th>\n      <td>M1H</td>\n      <td>Scarborough</td>\n      <td>Cedarbrae</td>\n    </tr>\n  </tbody>\n</table>\n</div>", 
                        "text/plain": "  PostalCode      Borough                            Neighborhood\n0        M1B  Scarborough                          Malvern, Rouge\n1        M1C  Scarborough  Rouge Hill, Port Union, Highland Creek\n2        M1E  Scarborough       Morningside, Guildwood, West Hill\n3        M1G  Scarborough                                  Woburn\n4        M1H  Scarborough                               Cedarbrae"
                    }, 
                    "output_type": "execute_result"
                }
            ], 
            "source": "df2.loc[df2['Neighborhood'] == 'Not assigned', 'Neighborhood' ] = df2['Borough']\ndf2.head()"
        }, 
        {
            "source": "Gteting the size of the dataset afterwards", 
            "cell_type": "markdown", 
            "metadata": {}
        }, 
        {
            "execution_count": 15, 
            "cell_type": "code", 
            "metadata": {}, 
            "outputs": [
                {
                    "execution_count": 15, 
                    "metadata": {}, 
                    "data": {
                        "text/plain": "(103, 3)"
                    }, 
                    "output_type": "execute_result"
                }
            ], 
            "source": "df2.shape"
        }, 
        {
            "execution_count": 25, 
            "cell_type": "code", 
            "metadata": {}, 
            "outputs": [
                {
                    "output_type": "stream", 
                    "name": "stdout", 
                    "text": "--2018-12-07 19:07:53--  https://cocl.us/Geospatial_data\nResolving cocl.us (cocl.us)... 169.48.113.201\nConnecting to cocl.us (cocl.us)|169.48.113.201|:443... connected.\nHTTP request sent, awaiting response... 301 Moved Permanently\nLocation: https://ibm.box.com/shared/static/9afzr83pps4pwf2smjjcf1y5mvgb18rr.csv [following]\n--2018-12-07 19:07:57--  https://ibm.box.com/shared/static/9afzr83pps4pwf2smjjcf1y5mvgb18rr.csv\nResolving ibm.box.com (ibm.box.com)... 107.152.27.197\nConnecting to ibm.box.com (ibm.box.com)|107.152.27.197|:443... connected.\nHTTP request sent, awaiting response... 301 Moved Permanently\nLocation: https://ibm.ent.box.com/shared/static/9afzr83pps4pwf2smjjcf1y5mvgb18rr.csv [following]\n--2018-12-07 19:07:57--  https://ibm.ent.box.com/shared/static/9afzr83pps4pwf2smjjcf1y5mvgb18rr.csv\nResolving ibm.ent.box.com (ibm.ent.box.com)... 107.152.27.211\nConnecting to ibm.ent.box.com (ibm.ent.box.com)|107.152.27.211|:443... connected.\nHTTP request sent, awaiting response... 302 Found\nLocation: https://public.boxcloud.com/d/1/b1!GKSVH_rCNoqw--4oj2BOyxyy5FlSky8h_DFku4c7eWIHPvuq31XYnm_HBHgZwPxFYnQRLDkCwBqz8LRbw7l4e1gUGa0L-m9BmqR3WRA05RK0g7wMg22QdARjPIrDQgaMn6K4VvSZ7HrhWbFSL3PCtloTqu6SUHgO7gEbVAHHLm--05PuUV_qJuKLAs4jvheqhj6fa-RJJPslISHuA_QfeZ-hdN077Et2NA9i6fnZ-YFsPvPtF5jTHHCA7yO6j7ZpVzJUZF75zFp0KRf_Vgve8vEsr0uJWwnnQhJ_roJxApwDmgEGxXANdrsRoCOzbg2ZjV4i8sZeWP-zssiYiQU_0JzVp0guOd7wOp62gWBMtqyj00mNY6bN_AkkISnYjKJswYgpeOgpAZLs2IFaD46Lp4vLAMCP9Rpw-Lu3MbVjL5LJqWapASTRKXBiNQ_Ifcjg1wThNfUiOYfKGRDUp9UI2bgXbZltaTj4qttJmIGG2k8yYQz8K1ln61dVl5CJ9RISRe_ez0yD__8VklM7dGfJ5uD13LxpTfqQLZujgv1X263oYI8PUPPYH1Pp1iZd_UAnTMZ-DjDGtbiUYn1GOBsC1sApXSh91DyOVf2kA6nOIVYyhOOmJE8uDe36lHPDRkUZx09dx3B9jUPVEJ8vyqL8U_6j-Xz8U14cK1i9b5wuHBImIAarjjoAy2vd9Lk7zbiqIOYxNewm8ZK2FE9kqso7-49FyRFio-_5Xh_SPDnFv22xD974TV0kyzWiqvsGcsm_4Vh3qeaaiA7P0BrWPkTiavjsWpNu47CmSvwTrX-veUHVgUMBJibjPggWW7np3aMRUEGl2i-BJEHwBs98H3ekjRtzBQ_w5h2ep9ZQzoW1ozj46xdQ9e7-ipIqAYohUG_Pzur-hCxzwfd5snK7l216t2WMX9bEID8Avnu9s_wUTA9SSTr52KPSIkm6LZCFg-kTJMHNDtNvZR9h2VhboGYrrfPyUUi1P-j3MyIL0WWXJyeW9HllU9ScHYFQ_UQpzf2mHu-yVC613dMfbnEYH1hHtjWtpLphKDxRjBlt1oi0pRvJ5b3lhFsMQn31FLMzsudsEYlSbKstsTj2WTZYiKbOYfyWzftL5iC6bKkpfIkE-NWJ0r-lpXpY2GkkPlzn03iWJnSUod1DvXfJoek0NPkr-zkBIU0sKNPxd8FhFKtS6_g5QZxRP3jiC2zecbFuiT5TMgFQpDyHo6Y8JhsEDouIwQCQvNLRiZ8jS3nPo_5N5RMfq68vIBFJqx8vmGkwWt07tMy-6FOqa73Hb2hsLT4UehIw8yvaHjSHkT9IVP0NP9A7zhYYEY8FacMpFTX2_OKv_2z-M8ynnkA_ZtYIQc303G3ZOBMxLcKYN5p_XMEGlCM./download [following]\n--2018-12-07 19:07:59--  https://public.boxcloud.com/d/1/b1!GKSVH_rCNoqw--4oj2BOyxyy5FlSky8h_DFku4c7eWIHPvuq31XYnm_HBHgZwPxFYnQRLDkCwBqz8LRbw7l4e1gUGa0L-m9BmqR3WRA05RK0g7wMg22QdARjPIrDQgaMn6K4VvSZ7HrhWbFSL3PCtloTqu6SUHgO7gEbVAHHLm--05PuUV_qJuKLAs4jvheqhj6fa-RJJPslISHuA_QfeZ-hdN077Et2NA9i6fnZ-YFsPvPtF5jTHHCA7yO6j7ZpVzJUZF75zFp0KRf_Vgve8vEsr0uJWwnnQhJ_roJxApwDmgEGxXANdrsRoCOzbg2ZjV4i8sZeWP-zssiYiQU_0JzVp0guOd7wOp62gWBMtqyj00mNY6bN_AkkISnYjKJswYgpeOgpAZLs2IFaD46Lp4vLAMCP9Rpw-Lu3MbVjL5LJqWapASTRKXBiNQ_Ifcjg1wThNfUiOYfKGRDUp9UI2bgXbZltaTj4qttJmIGG2k8yYQz8K1ln61dVl5CJ9RISRe_ez0yD__8VklM7dGfJ5uD13LxpTfqQLZujgv1X263oYI8PUPPYH1Pp1iZd_UAnTMZ-DjDGtbiUYn1GOBsC1sApXSh91DyOVf2kA6nOIVYyhOOmJE8uDe36lHPDRkUZx09dx3B9jUPVEJ8vyqL8U_6j-Xz8U14cK1i9b5wuHBImIAarjjoAy2vd9Lk7zbiqIOYxNewm8ZK2FE9kqso7-49FyRFio-_5Xh_SPDnFv22xD974TV0kyzWiqvsGcsm_4Vh3qeaaiA7P0BrWPkTiavjsWpNu47CmSvwTrX-veUHVgUMBJibjPggWW7np3aMRUEGl2i-BJEHwBs98H3ekjRtzBQ_w5h2ep9ZQzoW1ozj46xdQ9e7-ipIqAYohUG_Pzur-hCxzwfd5snK7l216t2WMX9bEID8Avnu9s_wUTA9SSTr52KPSIkm6LZCFg-kTJMHNDtNvZR9h2VhboGYrrfPyUUi1P-j3MyIL0WWXJyeW9HllU9ScHYFQ_UQpzf2mHu-yVC613dMfbnEYH1hHtjWtpLphKDxRjBlt1oi0pRvJ5b3lhFsMQn31FLMzsudsEYlSbKstsTj2WTZYiKbOYfyWzftL5iC6bKkpfIkE-NWJ0r-lpXpY2GkkPlzn03iWJnSUod1DvXfJoek0NPkr-zkBIU0sKNPxd8FhFKtS6_g5QZxRP3jiC2zecbFuiT5TMgFQpDyHo6Y8JhsEDouIwQCQvNLRiZ8jS3nPo_5N5RMfq68vIBFJqx8vmGkwWt07tMy-6FOqa73Hb2hsLT4UehIw8yvaHjSHkT9IVP0NP9A7zhYYEY8FacMpFTX2_OKv_2z-M8ynnkA_ZtYIQc303G3ZOBMxLcKYN5p_XMEGlCM./download\nResolving public.boxcloud.com (public.boxcloud.com)... 107.152.26.200\nConnecting to public.boxcloud.com (public.boxcloud.com)|107.152.26.200|:443... connected.\nHTTP request sent, awaiting response... 200 OK\nLength: 2891 (2.8K) [text/csv]\nSaving to: \u2018toronto_geospatialdata.csv\u2019\n\n100%[======================================>] 2,891       --.-K/s   in 0s      \n\n2018-12-07 19:07:59 (118 MB/s) - \u2018toronto_geospatialdata.csv\u2019 saved [2891/2891]\n\n"
                }
            ], 
            "source": "!wget -O toronto_geospatialdata.csv https://cocl.us/Geospatial_data"
        }, 
        {
            "execution_count": 26, 
            "cell_type": "code", 
            "metadata": {}, 
            "outputs": [
                {
                    "execution_count": 26, 
                    "metadata": {}, 
                    "data": {
                        "text/html": "<div>\n<style scoped>\n    .dataframe tbody tr th:only-of-type {\n        vertical-align: middle;\n    }\n\n    .dataframe tbody tr th {\n        vertical-align: top;\n    }\n\n    .dataframe thead th {\n        text-align: right;\n    }\n</style>\n<table border=\"1\" class=\"dataframe\">\n  <thead>\n    <tr style=\"text-align: right;\">\n      <th></th>\n      <th>Postal Code</th>\n      <th>Latitude</th>\n      <th>Longitude</th>\n    </tr>\n  </thead>\n  <tbody>\n    <tr>\n      <th>0</th>\n      <td>M1B</td>\n      <td>43.806686</td>\n      <td>-79.194353</td>\n    </tr>\n    <tr>\n      <th>1</th>\n      <td>M1C</td>\n      <td>43.784535</td>\n      <td>-79.160497</td>\n    </tr>\n    <tr>\n      <th>2</th>\n      <td>M1E</td>\n      <td>43.763573</td>\n      <td>-79.188711</td>\n    </tr>\n    <tr>\n      <th>3</th>\n      <td>M1G</td>\n      <td>43.770992</td>\n      <td>-79.216917</td>\n    </tr>\n    <tr>\n      <th>4</th>\n      <td>M1H</td>\n      <td>43.773136</td>\n      <td>-79.239476</td>\n    </tr>\n  </tbody>\n</table>\n</div>", 
                        "text/plain": "  Postal Code   Latitude  Longitude\n0         M1B  43.806686 -79.194353\n1         M1C  43.784535 -79.160497\n2         M1E  43.763573 -79.188711\n3         M1G  43.770992 -79.216917\n4         M1H  43.773136 -79.239476"
                    }, 
                    "output_type": "execute_result"
                }
            ], 
            "source": "toronto_geo_df = pd.read_csv('toronto_geospatialdata.csv')\ntoronto_geo_df.head()"
        }, 
        {
            "execution_count": 27, 
            "cell_type": "code", 
            "metadata": {}, 
            "outputs": [
                {
                    "execution_count": 27, 
                    "metadata": {}, 
                    "data": {
                        "text/html": "<div>\n<style scoped>\n    .dataframe tbody tr th:only-of-type {\n        vertical-align: middle;\n    }\n\n    .dataframe tbody tr th {\n        vertical-align: top;\n    }\n\n    .dataframe thead th {\n        text-align: right;\n    }\n</style>\n<table border=\"1\" class=\"dataframe\">\n  <thead>\n    <tr style=\"text-align: right;\">\n      <th></th>\n      <th>PostalCode</th>\n      <th>Borough</th>\n      <th>Neighborhood</th>\n      <th>Latitude</th>\n      <th>Longitude</th>\n    </tr>\n  </thead>\n  <tbody>\n    <tr>\n      <th>0</th>\n      <td>M1A</td>\n      <td>Not assigned</td>\n      <td>Not assigned</td>\n      <td>NaN</td>\n      <td>NaN</td>\n    </tr>\n    <tr>\n      <th>1</th>\n      <td>M2A</td>\n      <td>Not assigned</td>\n      <td>Not assigned</td>\n      <td>NaN</td>\n      <td>NaN</td>\n    </tr>\n    <tr>\n      <th>2</th>\n      <td>M3A</td>\n      <td>North York</td>\n      <td>Parkwoods</td>\n      <td>43.753259</td>\n      <td>-79.329656</td>\n    </tr>\n    <tr>\n      <th>3</th>\n      <td>M4A</td>\n      <td>North York</td>\n      <td>Victoria Village</td>\n      <td>43.725882</td>\n      <td>-79.315572</td>\n    </tr>\n    <tr>\n      <th>4</th>\n      <td>M5A</td>\n      <td>Downtown Toronto</td>\n      <td>Harbourfront</td>\n      <td>43.654260</td>\n      <td>-79.360636</td>\n    </tr>\n  </tbody>\n</table>\n</div>", 
                        "text/plain": "  PostalCode           Borough      Neighborhood   Latitude  Longitude\n0        M1A      Not assigned      Not assigned        NaN        NaN\n1        M2A      Not assigned      Not assigned        NaN        NaN\n2        M3A        North York         Parkwoods  43.753259 -79.329656\n3        M4A        North York  Victoria Village  43.725882 -79.315572\n4        M5A  Downtown Toronto      Harbourfront  43.654260 -79.360636"
                    }, 
                    "output_type": "execute_result"
                }
            ], 
            "source": "toronto_df = df\ntoronto_df = toronto_df.join(toronto_geo_df.set_index('Postal Code'),on='PostalCode')\ntoronto_df.head()"
        }, 
        {
            "execution_count": null, 
            "cell_type": "code", 
            "metadata": {}, 
            "outputs": [], 
            "source": "df1 = df.query('Latitu != \"Not assigned\"').reset_index(drop=True)\ndf1.head()"
        }, 
        {
            "execution_count": null, 
            "cell_type": "code", 
            "metadata": {}, 
            "outputs": [], 
            "source": ""
        }, 
        {
            "execution_count": null, 
            "cell_type": "code", 
            "metadata": {}, 
            "outputs": [], 
            "source": ""
        }, 
        {
            "execution_count": null, 
            "cell_type": "code", 
            "metadata": {}, 
            "outputs": [], 
            "source": ""
        }, 
        {
            "execution_count": null, 
            "cell_type": "code", 
            "metadata": {}, 
            "outputs": [], 
            "source": ""
        }, 
        {
            "execution_count": null, 
            "cell_type": "code", 
            "metadata": {}, 
            "outputs": [], 
            "source": ""
        }
    ], 
    "metadata": {
        "kernelspec": {
            "display_name": "Python 3.5", 
            "name": "python3", 
            "language": "python"
        }, 
        "language_info": {
            "mimetype": "text/x-python", 
            "nbconvert_exporter": "python", 
            "version": "3.5.5", 
            "name": "python", 
            "file_extension": ".py", 
            "pygments_lexer": "ipython3", 
            "codemirror_mode": {
                "version": 3, 
                "name": "ipython"
            }
        }
    }, 
    "nbformat": 4
}